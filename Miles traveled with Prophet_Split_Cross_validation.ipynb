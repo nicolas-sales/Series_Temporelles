{
 "cells": [
  {
   "cell_type": "code",
   "execution_count": 99,
   "id": "c1599a8f-6fb5-436e-8b08-4a0dc5c381c0",
   "metadata": {},
   "outputs": [],
   "source": [
    "import pandas as pd\n",
    "from prophet import Prophet\n",
    "import matplotlib.pyplot as plt\n",
    "%matplotlib inline\n",
    "from statsmodels.tools.eval_measures import rmse\n",
    "from prophet.diagnostics import cross_validation, performance_metrics\n",
    "from prophet.plot import plot_cross_validation_metric"
   ]
  },
  {
   "cell_type": "code",
   "execution_count": 4,
   "id": "c0e8201e-71b1-4661-bfd9-ec204b175ac0",
   "metadata": {},
   "outputs": [],
   "source": [
    "df = pd.read_csv(r'C:\\Users\\nico_\\Desktop\\Time series\\UDEMY_TSA_FINAL\\UDEMY_TSA_FINAL\\Data\\Miles_traveled.csv')"
   ]
  },
  {
   "cell_type": "code",
   "execution_count": 6,
   "id": "e05699d3-d941-4308-9f34-869df6a497bf",
   "metadata": {},
   "outputs": [
    {
     "data": {
      "text/html": [
       "<div>\n",
       "<style scoped>\n",
       "    .dataframe tbody tr th:only-of-type {\n",
       "        vertical-align: middle;\n",
       "    }\n",
       "\n",
       "    .dataframe tbody tr th {\n",
       "        vertical-align: top;\n",
       "    }\n",
       "\n",
       "    .dataframe thead th {\n",
       "        text-align: right;\n",
       "    }\n",
       "</style>\n",
       "<table border=\"1\" class=\"dataframe\">\n",
       "  <thead>\n",
       "    <tr style=\"text-align: right;\">\n",
       "      <th></th>\n",
       "      <th>DATE</th>\n",
       "      <th>TRFVOLUSM227NFWA</th>\n",
       "    </tr>\n",
       "  </thead>\n",
       "  <tbody>\n",
       "    <tr>\n",
       "      <th>0</th>\n",
       "      <td>1970-01-01</td>\n",
       "      <td>80173.0</td>\n",
       "    </tr>\n",
       "    <tr>\n",
       "      <th>1</th>\n",
       "      <td>1970-02-01</td>\n",
       "      <td>77442.0</td>\n",
       "    </tr>\n",
       "    <tr>\n",
       "      <th>2</th>\n",
       "      <td>1970-03-01</td>\n",
       "      <td>90223.0</td>\n",
       "    </tr>\n",
       "    <tr>\n",
       "      <th>3</th>\n",
       "      <td>1970-04-01</td>\n",
       "      <td>89956.0</td>\n",
       "    </tr>\n",
       "    <tr>\n",
       "      <th>4</th>\n",
       "      <td>1970-05-01</td>\n",
       "      <td>97972.0</td>\n",
       "    </tr>\n",
       "  </tbody>\n",
       "</table>\n",
       "</div>"
      ],
      "text/plain": [
       "         DATE  TRFVOLUSM227NFWA\n",
       "0  1970-01-01           80173.0\n",
       "1  1970-02-01           77442.0\n",
       "2  1970-03-01           90223.0\n",
       "3  1970-04-01           89956.0\n",
       "4  1970-05-01           97972.0"
      ]
     },
     "execution_count": 6,
     "metadata": {},
     "output_type": "execute_result"
    }
   ],
   "source": [
    "df.head()"
   ]
  },
  {
   "cell_type": "code",
   "execution_count": 8,
   "id": "906d4d00-2a65-449e-b9a2-fb43d0c25e6a",
   "metadata": {},
   "outputs": [
    {
     "data": {
      "text/html": [
       "<div>\n",
       "<style scoped>\n",
       "    .dataframe tbody tr th:only-of-type {\n",
       "        vertical-align: middle;\n",
       "    }\n",
       "\n",
       "    .dataframe tbody tr th {\n",
       "        vertical-align: top;\n",
       "    }\n",
       "\n",
       "    .dataframe thead th {\n",
       "        text-align: right;\n",
       "    }\n",
       "</style>\n",
       "<table border=\"1\" class=\"dataframe\">\n",
       "  <thead>\n",
       "    <tr style=\"text-align: right;\">\n",
       "      <th></th>\n",
       "      <th>DATE</th>\n",
       "      <th>TRFVOLUSM227NFWA</th>\n",
       "    </tr>\n",
       "  </thead>\n",
       "  <tbody>\n",
       "    <tr>\n",
       "      <th>583</th>\n",
       "      <td>2018-08-01</td>\n",
       "      <td>286608.0</td>\n",
       "    </tr>\n",
       "    <tr>\n",
       "      <th>584</th>\n",
       "      <td>2018-09-01</td>\n",
       "      <td>260595.0</td>\n",
       "    </tr>\n",
       "    <tr>\n",
       "      <th>585</th>\n",
       "      <td>2018-10-01</td>\n",
       "      <td>282174.0</td>\n",
       "    </tr>\n",
       "    <tr>\n",
       "      <th>586</th>\n",
       "      <td>2018-11-01</td>\n",
       "      <td>258590.0</td>\n",
       "    </tr>\n",
       "    <tr>\n",
       "      <th>587</th>\n",
       "      <td>2018-12-01</td>\n",
       "      <td>268413.0</td>\n",
       "    </tr>\n",
       "  </tbody>\n",
       "</table>\n",
       "</div>"
      ],
      "text/plain": [
       "           DATE  TRFVOLUSM227NFWA\n",
       "583  2018-08-01          286608.0\n",
       "584  2018-09-01          260595.0\n",
       "585  2018-10-01          282174.0\n",
       "586  2018-11-01          258590.0\n",
       "587  2018-12-01          268413.0"
      ]
     },
     "execution_count": 8,
     "metadata": {},
     "output_type": "execute_result"
    }
   ],
   "source": [
    "df.tail()"
   ]
  },
  {
   "cell_type": "code",
   "execution_count": 10,
   "id": "59de523c-2e08-4ece-92c1-172095363f35",
   "metadata": {},
   "outputs": [
    {
     "data": {
      "text/plain": [
       "588"
      ]
     },
     "execution_count": 10,
     "metadata": {},
     "output_type": "execute_result"
    }
   ],
   "source": [
    "len(df)"
   ]
  },
  {
   "cell_type": "code",
   "execution_count": 12,
   "id": "776ceada-4cd0-415e-8d5f-a72a71938fca",
   "metadata": {},
   "outputs": [
    {
     "name": "stdout",
     "output_type": "stream",
     "text": [
      "<class 'pandas.core.frame.DataFrame'>\n",
      "RangeIndex: 588 entries, 0 to 587\n",
      "Data columns (total 2 columns):\n",
      " #   Column            Non-Null Count  Dtype  \n",
      "---  ------            --------------  -----  \n",
      " 0   DATE              588 non-null    object \n",
      " 1   TRFVOLUSM227NFWA  588 non-null    float64\n",
      "dtypes: float64(1), object(1)\n",
      "memory usage: 9.3+ KB\n"
     ]
    }
   ],
   "source": [
    "df.info()"
   ]
  },
  {
   "cell_type": "code",
   "execution_count": 14,
   "id": "741acf89-a5d1-4754-9752-9dc80b574247",
   "metadata": {},
   "outputs": [],
   "source": [
    "df.columns = ['ds','y']"
   ]
  },
  {
   "cell_type": "code",
   "execution_count": 16,
   "id": "c0f17319-cd01-4363-ac5c-72c3debb6b51",
   "metadata": {},
   "outputs": [],
   "source": [
    "df['ds'] = pd.to_datetime(df['ds'])"
   ]
  },
  {
   "cell_type": "code",
   "execution_count": 18,
   "id": "9c4c3178-3532-4bcc-8cb3-a22ccd67ba7a",
   "metadata": {},
   "outputs": [
    {
     "name": "stdout",
     "output_type": "stream",
     "text": [
      "<class 'pandas.core.frame.DataFrame'>\n",
      "RangeIndex: 588 entries, 0 to 587\n",
      "Data columns (total 2 columns):\n",
      " #   Column  Non-Null Count  Dtype         \n",
      "---  ------  --------------  -----         \n",
      " 0   ds      588 non-null    datetime64[ns]\n",
      " 1   y       588 non-null    float64       \n",
      "dtypes: datetime64[ns](1), float64(1)\n",
      "memory usage: 9.3 KB\n"
     ]
    }
   ],
   "source": [
    "df.info()"
   ]
  },
  {
   "cell_type": "code",
   "execution_count": 20,
   "id": "86d4a1ec-79e2-4fed-977d-38e17afb72a4",
   "metadata": {},
   "outputs": [
    {
     "data": {
      "text/plain": [
       "<Axes: xlabel='ds'>"
      ]
     },
     "execution_count": 20,
     "metadata": {},
     "output_type": "execute_result"
    },
    {
     "data": {
      "image/png": "[encoded data removed]",
      "text/plain": [
       "<Figure size 640x480 with 1 Axes>"
      ]
     },
     "metadata": {},
     "output_type": "display_data"
    }
   ],
   "source": [
    "df.plot('ds','y')"
   ]
  },
  {
   "cell_type": "markdown",
   "id": "861810ac-500f-4752-99ad-2c94d24ad9a0",
   "metadata": {},
   "source": [
    "# Split"
   ]
  },
  {
   "cell_type": "code",
   "execution_count": 23,
   "id": "f293ff5e-e1d0-45ea-9fc9-7b416ba0099e",
   "metadata": {},
   "outputs": [],
   "source": [
    "# Prédiction de 12 mois\n",
    "train = df.iloc[:576]\n",
    "test = df.iloc[576:]"
   ]
  },
  {
   "cell_type": "code",
   "execution_count": 25,
   "id": "8ed33768-c922-484c-b0c4-a646ece771d3",
   "metadata": {},
   "outputs": [
    {
     "name": "stderr",
     "output_type": "stream",
     "text": [
      "17:24:11 - cmdstanpy - INFO - Chain [1] start processing\n",
      "17:24:11 - cmdstanpy - INFO - Chain [1] done processing\n"
     ]
    },
    {
     "data": {
      "text/plain": [
       "<prophet.forecaster.Prophet at 0x1ed40655790>"
      ]
     },
     "execution_count": 25,
     "metadata": {},
     "output_type": "execute_result"
    }
   ],
   "source": [
    "m = Prophet()\n",
    "m.fit(train)"
   ]
  },
  {
   "cell_type": "code",
   "execution_count": 27,
   "id": "d20d5ab1-f651-4020-8486-3d422e85545e",
   "metadata": {},
   "outputs": [],
   "source": [
    "future = m.make_future_dataframe(periods=12, freq='MS')    # 12 mois à prédire"
   ]
  },
  {
   "cell_type": "code",
   "execution_count": 29,
   "id": "b6ec6dd2-b83f-46f3-be43-6b8bc3b7952b",
   "metadata": {},
   "outputs": [],
   "source": [
    "forecast = m.predict(future)"
   ]
  },
  {
   "cell_type": "code",
   "execution_count": 33,
   "id": "9845b48e-a3f3-417e-b4f5-abc4ce886bcb",
   "metadata": {},
   "outputs": [
    {
     "data": {
      "text/html": [
       "<div>\n",
       "<style scoped>\n",
       "    .dataframe tbody tr th:only-of-type {\n",
       "        vertical-align: middle;\n",
       "    }\n",
       "\n",
       "    .dataframe tbody tr th {\n",
       "        vertical-align: top;\n",
       "    }\n",
       "\n",
       "    .dataframe thead th {\n",
       "        text-align: right;\n",
       "    }\n",
       "</style>\n",
       "<table border=\"1\" class=\"dataframe\">\n",
       "  <thead>\n",
       "    <tr style=\"text-align: right;\">\n",
       "      <th></th>\n",
       "      <th>ds</th>\n",
       "      <th>trend</th>\n",
       "      <th>yhat_lower</th>\n",
       "      <th>yhat_upper</th>\n",
       "      <th>trend_lower</th>\n",
       "      <th>trend_upper</th>\n",
       "      <th>additive_terms</th>\n",
       "      <th>additive_terms_lower</th>\n",
       "      <th>additive_terms_upper</th>\n",
       "      <th>yearly</th>\n",
       "      <th>yearly_lower</th>\n",
       "      <th>yearly_upper</th>\n",
       "      <th>multiplicative_terms</th>\n",
       "      <th>multiplicative_terms_lower</th>\n",
       "      <th>multiplicative_terms_upper</th>\n",
       "      <th>yhat</th>\n",
       "    </tr>\n",
       "  </thead>\n",
       "  <tbody>\n",
       "    <tr>\n",
       "      <th>0</th>\n",
       "      <td>1970-01-01</td>\n",
       "      <td>94271.491440</td>\n",
       "      <td>70615.851953</td>\n",
       "      <td>81213.783790</td>\n",
       "      <td>94271.491440</td>\n",
       "      <td>94271.491440</td>\n",
       "      <td>-18592.009874</td>\n",
       "      <td>-18592.009874</td>\n",
       "      <td>-18592.009874</td>\n",
       "      <td>-18592.009874</td>\n",
       "      <td>-18592.009874</td>\n",
       "      <td>-18592.009874</td>\n",
       "      <td>0.0</td>\n",
       "      <td>0.0</td>\n",
       "      <td>0.0</td>\n",
       "      <td>75679.481566</td>\n",
       "    </tr>\n",
       "    <tr>\n",
       "      <th>1</th>\n",
       "      <td>1970-02-01</td>\n",
       "      <td>94581.319896</td>\n",
       "      <td>62028.190019</td>\n",
       "      <td>73201.556368</td>\n",
       "      <td>94581.319896</td>\n",
       "      <td>94581.319896</td>\n",
       "      <td>-27104.937367</td>\n",
       "      <td>-27104.937367</td>\n",
       "      <td>-27104.937367</td>\n",
       "      <td>-27104.937367</td>\n",
       "      <td>-27104.937367</td>\n",
       "      <td>-27104.937367</td>\n",
       "      <td>0.0</td>\n",
       "      <td>0.0</td>\n",
       "      <td>0.0</td>\n",
       "      <td>67476.382529</td>\n",
       "    </tr>\n",
       "    <tr>\n",
       "      <th>2</th>\n",
       "      <td>1970-03-01</td>\n",
       "      <td>94861.164953</td>\n",
       "      <td>89162.142094</td>\n",
       "      <td>100862.237812</td>\n",
       "      <td>94861.164953</td>\n",
       "      <td>94861.164953</td>\n",
       "      <td>-31.160435</td>\n",
       "      <td>-31.160435</td>\n",
       "      <td>-31.160435</td>\n",
       "      <td>-31.160435</td>\n",
       "      <td>-31.160435</td>\n",
       "      <td>-31.160435</td>\n",
       "      <td>0.0</td>\n",
       "      <td>0.0</td>\n",
       "      <td>0.0</td>\n",
       "      <td>94830.004518</td>\n",
       "    </tr>\n",
       "    <tr>\n",
       "      <th>3</th>\n",
       "      <td>1970-04-01</td>\n",
       "      <td>95170.993409</td>\n",
       "      <td>89377.639622</td>\n",
       "      <td>101173.411793</td>\n",
       "      <td>95170.993409</td>\n",
       "      <td>95170.993409</td>\n",
       "      <td>30.939113</td>\n",
       "      <td>30.939113</td>\n",
       "      <td>30.939113</td>\n",
       "      <td>30.939113</td>\n",
       "      <td>30.939113</td>\n",
       "      <td>30.939113</td>\n",
       "      <td>0.0</td>\n",
       "      <td>0.0</td>\n",
       "      <td>0.0</td>\n",
       "      <td>95201.932522</td>\n",
       "    </tr>\n",
       "    <tr>\n",
       "      <th>4</th>\n",
       "      <td>1970-05-01</td>\n",
       "      <td>95470.827398</td>\n",
       "      <td>99595.760102</td>\n",
       "      <td>110987.354097</td>\n",
       "      <td>95470.827398</td>\n",
       "      <td>95470.827398</td>\n",
       "      <td>9618.637856</td>\n",
       "      <td>9618.637856</td>\n",
       "      <td>9618.637856</td>\n",
       "      <td>9618.637856</td>\n",
       "      <td>9618.637856</td>\n",
       "      <td>9618.637856</td>\n",
       "      <td>0.0</td>\n",
       "      <td>0.0</td>\n",
       "      <td>0.0</td>\n",
       "      <td>105089.465254</td>\n",
       "    </tr>\n",
       "  </tbody>\n",
       "</table>\n",
       "</div>"
      ],
      "text/plain": [
       "          ds         trend    yhat_lower     yhat_upper   trend_lower  \\\n",
       "0 1970-01-01  94271.491440  70615.851953   81213.783790  94271.491440   \n",
       "1 1970-02-01  94581.319896  62028.190019   73201.556368  94581.319896   \n",
       "2 1970-03-01  94861.164953  89162.142094  100862.237812  94861.164953   \n",
       "3 1970-04-01  95170.993409  89377.639622  101173.411793  95170.993409   \n",
       "4 1970-05-01  95470.827398  99595.760102  110987.354097  95470.827398   \n",
       "\n",
       "    trend_upper  additive_terms  additive_terms_lower  additive_terms_upper  \\\n",
       "0  94271.491440   -18592.009874         -18592.009874         -18592.009874   \n",
       "1  94581.319896   -27104.937367         -27104.937367         -27104.937367   \n",
       "2  94861.164953      -31.160435            -31.160435            -31.160435   \n",
       "3  95170.993409       30.939113             30.939113             30.939113   \n",
       "4  95470.827398     9618.637856           9618.637856           9618.637856   \n",
       "\n",
       "         yearly  yearly_lower  yearly_upper  multiplicative_terms  \\\n",
       "0 -18592.009874 -18592.009874 -18592.009874                   0.0   \n",
       "1 -27104.937367 -27104.937367 -27104.937367                   0.0   \n",
       "2    -31.160435    -31.160435    -31.160435                   0.0   \n",
       "3     30.939113     30.939113     30.939113                   0.0   \n",
       "4   9618.637856   9618.637856   9618.637856                   0.0   \n",
       "\n",
       "   multiplicative_terms_lower  multiplicative_terms_upper           yhat  \n",
       "0                         0.0                         0.0   75679.481566  \n",
       "1                         0.0                         0.0   67476.382529  \n",
       "2                         0.0                         0.0   94830.004518  \n",
       "3                         0.0                         0.0   95201.932522  \n",
       "4                         0.0                         0.0  105089.465254  "
      ]
     },
     "execution_count": 33,
     "metadata": {},
     "output_type": "execute_result"
    }
   ],
   "source": [
    "forecast.head()"
   ]
  },
  {
   "cell_type": "code",
   "execution_count": 49,
   "id": "5d35fe05-b78a-4b76-9c3d-18742cef5265",
   "metadata": {},
   "outputs": [
    {
     "data": {
      "text/html": [
       "<div>\n",
       "<style scoped>\n",
       "    .dataframe tbody tr th:only-of-type {\n",
       "        vertical-align: middle;\n",
       "    }\n",
       "\n",
       "    .dataframe tbody tr th {\n",
       "        vertical-align: top;\n",
       "    }\n",
       "\n",
       "    .dataframe thead th {\n",
       "        text-align: right;\n",
       "    }\n",
       "</style>\n",
       "<table border=\"1\" class=\"dataframe\">\n",
       "  <thead>\n",
       "    <tr style=\"text-align: right;\">\n",
       "      <th></th>\n",
       "      <th>ds</th>\n",
       "      <th>trend</th>\n",
       "      <th>yhat_lower</th>\n",
       "      <th>yhat_upper</th>\n",
       "      <th>trend_lower</th>\n",
       "      <th>trend_upper</th>\n",
       "      <th>additive_terms</th>\n",
       "      <th>additive_terms_lower</th>\n",
       "      <th>additive_terms_upper</th>\n",
       "      <th>yearly</th>\n",
       "      <th>yearly_lower</th>\n",
       "      <th>yearly_upper</th>\n",
       "      <th>multiplicative_terms</th>\n",
       "      <th>multiplicative_terms_lower</th>\n",
       "      <th>multiplicative_terms_upper</th>\n",
       "      <th>yhat</th>\n",
       "    </tr>\n",
       "  </thead>\n",
       "  <tbody>\n",
       "    <tr>\n",
       "      <th>576</th>\n",
       "      <td>2018-01-01</td>\n",
       "      <td>262461.081132</td>\n",
       "      <td>238161.423333</td>\n",
       "      <td>249322.445297</td>\n",
       "      <td>262461.081132</td>\n",
       "      <td>262461.081132</td>\n",
       "      <td>-18592.009874</td>\n",
       "      <td>-18592.009874</td>\n",
       "      <td>-18592.009874</td>\n",
       "      <td>-18592.009874</td>\n",
       "      <td>-18592.009874</td>\n",
       "      <td>-18592.009874</td>\n",
       "      <td>0.0</td>\n",
       "      <td>0.0</td>\n",
       "      <td>0.0</td>\n",
       "      <td>243869.071258</td>\n",
       "    </tr>\n",
       "    <tr>\n",
       "      <th>577</th>\n",
       "      <td>2018-02-01</td>\n",
       "      <td>262603.313199</td>\n",
       "      <td>229753.573549</td>\n",
       "      <td>241188.198815</td>\n",
       "      <td>262603.313199</td>\n",
       "      <td>262603.313199</td>\n",
       "      <td>-27104.937367</td>\n",
       "      <td>-27104.937367</td>\n",
       "      <td>-27104.937367</td>\n",
       "      <td>-27104.937367</td>\n",
       "      <td>-27104.937367</td>\n",
       "      <td>-27104.937367</td>\n",
       "      <td>0.0</td>\n",
       "      <td>0.0</td>\n",
       "      <td>0.0</td>\n",
       "      <td>235498.375832</td>\n",
       "    </tr>\n",
       "    <tr>\n",
       "      <th>578</th>\n",
       "      <td>2018-03-01</td>\n",
       "      <td>262731.780873</td>\n",
       "      <td>257336.549059</td>\n",
       "      <td>268845.171266</td>\n",
       "      <td>262731.780873</td>\n",
       "      <td>262731.780873</td>\n",
       "      <td>-31.160435</td>\n",
       "      <td>-31.160435</td>\n",
       "      <td>-31.160435</td>\n",
       "      <td>-31.160435</td>\n",
       "      <td>-31.160435</td>\n",
       "      <td>-31.160435</td>\n",
       "      <td>0.0</td>\n",
       "      <td>0.0</td>\n",
       "      <td>0.0</td>\n",
       "      <td>262700.620438</td>\n",
       "    </tr>\n",
       "    <tr>\n",
       "      <th>579</th>\n",
       "      <td>2018-04-01</td>\n",
       "      <td>262874.012940</td>\n",
       "      <td>257584.575112</td>\n",
       "      <td>268972.074898</td>\n",
       "      <td>262874.012940</td>\n",
       "      <td>262874.012940</td>\n",
       "      <td>30.939113</td>\n",
       "      <td>30.939113</td>\n",
       "      <td>30.939113</td>\n",
       "      <td>30.939113</td>\n",
       "      <td>30.939113</td>\n",
       "      <td>30.939113</td>\n",
       "      <td>0.0</td>\n",
       "      <td>0.0</td>\n",
       "      <td>0.0</td>\n",
       "      <td>262904.952053</td>\n",
       "    </tr>\n",
       "    <tr>\n",
       "      <th>580</th>\n",
       "      <td>2018-05-01</td>\n",
       "      <td>263011.656876</td>\n",
       "      <td>267098.155323</td>\n",
       "      <td>278455.464080</td>\n",
       "      <td>263011.643000</td>\n",
       "      <td>263020.243995</td>\n",
       "      <td>9618.637856</td>\n",
       "      <td>9618.637856</td>\n",
       "      <td>9618.637856</td>\n",
       "      <td>9618.637856</td>\n",
       "      <td>9618.637856</td>\n",
       "      <td>9618.637856</td>\n",
       "      <td>0.0</td>\n",
       "      <td>0.0</td>\n",
       "      <td>0.0</td>\n",
       "      <td>272630.294732</td>\n",
       "    </tr>\n",
       "    <tr>\n",
       "      <th>581</th>\n",
       "      <td>2018-06-01</td>\n",
       "      <td>263153.888943</td>\n",
       "      <td>267028.098861</td>\n",
       "      <td>278552.932706</td>\n",
       "      <td>263141.381961</td>\n",
       "      <td>263181.073172</td>\n",
       "      <td>9729.419656</td>\n",
       "      <td>9729.419656</td>\n",
       "      <td>9729.419656</td>\n",
       "      <td>9729.419656</td>\n",
       "      <td>9729.419656</td>\n",
       "      <td>9729.419656</td>\n",
       "      <td>0.0</td>\n",
       "      <td>0.0</td>\n",
       "      <td>0.0</td>\n",
       "      <td>272883.308600</td>\n",
       "    </tr>\n",
       "    <tr>\n",
       "      <th>582</th>\n",
       "      <td>2018-07-01</td>\n",
       "      <td>263291.532879</td>\n",
       "      <td>273848.693203</td>\n",
       "      <td>284912.055513</td>\n",
       "      <td>263255.164621</td>\n",
       "      <td>263342.334537</td>\n",
       "      <td>16051.396481</td>\n",
       "      <td>16051.396481</td>\n",
       "      <td>16051.396481</td>\n",
       "      <td>16051.396481</td>\n",
       "      <td>16051.396481</td>\n",
       "      <td>16051.396481</td>\n",
       "      <td>0.0</td>\n",
       "      <td>0.0</td>\n",
       "      <td>0.0</td>\n",
       "      <td>279342.929360</td>\n",
       "    </tr>\n",
       "    <tr>\n",
       "      <th>583</th>\n",
       "      <td>2018-08-01</td>\n",
       "      <td>263433.764946</td>\n",
       "      <td>274322.522893</td>\n",
       "      <td>285457.142019</td>\n",
       "      <td>263367.073657</td>\n",
       "      <td>263509.925821</td>\n",
       "      <td>16446.103774</td>\n",
       "      <td>16446.103774</td>\n",
       "      <td>16446.103774</td>\n",
       "      <td>16446.103774</td>\n",
       "      <td>16446.103774</td>\n",
       "      <td>16446.103774</td>\n",
       "      <td>0.0</td>\n",
       "      <td>0.0</td>\n",
       "      <td>0.0</td>\n",
       "      <td>279879.868721</td>\n",
       "    </tr>\n",
       "    <tr>\n",
       "      <th>584</th>\n",
       "      <td>2018-09-01</td>\n",
       "      <td>263575.997014</td>\n",
       "      <td>255914.406786</td>\n",
       "      <td>267920.197541</td>\n",
       "      <td>263485.620657</td>\n",
       "      <td>263680.366694</td>\n",
       "      <td>-1672.204614</td>\n",
       "      <td>-1672.204614</td>\n",
       "      <td>-1672.204614</td>\n",
       "      <td>-1672.204614</td>\n",
       "      <td>-1672.204614</td>\n",
       "      <td>-1672.204614</td>\n",
       "      <td>0.0</td>\n",
       "      <td>0.0</td>\n",
       "      <td>0.0</td>\n",
       "      <td>261903.792400</td>\n",
       "    </tr>\n",
       "    <tr>\n",
       "      <th>585</th>\n",
       "      <td>2018-10-01</td>\n",
       "      <td>263713.640950</td>\n",
       "      <td>263168.237345</td>\n",
       "      <td>274487.566297</td>\n",
       "      <td>263592.908120</td>\n",
       "      <td>263863.319101</td>\n",
       "      <td>5303.845016</td>\n",
       "      <td>5303.845016</td>\n",
       "      <td>5303.845016</td>\n",
       "      <td>5303.845016</td>\n",
       "      <td>5303.845016</td>\n",
       "      <td>5303.845016</td>\n",
       "      <td>0.0</td>\n",
       "      <td>0.0</td>\n",
       "      <td>0.0</td>\n",
       "      <td>269017.485965</td>\n",
       "    </tr>\n",
       "    <tr>\n",
       "      <th>586</th>\n",
       "      <td>2018-11-01</td>\n",
       "      <td>263855.873017</td>\n",
       "      <td>249993.998289</td>\n",
       "      <td>261340.836579</td>\n",
       "      <td>263699.994710</td>\n",
       "      <td>264052.149381</td>\n",
       "      <td>-8211.000928</td>\n",
       "      <td>-8211.000928</td>\n",
       "      <td>-8211.000928</td>\n",
       "      <td>-8211.000928</td>\n",
       "      <td>-8211.000928</td>\n",
       "      <td>-8211.000928</td>\n",
       "      <td>0.0</td>\n",
       "      <td>0.0</td>\n",
       "      <td>0.0</td>\n",
       "      <td>255644.872089</td>\n",
       "    </tr>\n",
       "    <tr>\n",
       "      <th>587</th>\n",
       "      <td>2018-12-01</td>\n",
       "      <td>263993.516953</td>\n",
       "      <td>251428.223974</td>\n",
       "      <td>263046.646153</td>\n",
       "      <td>263791.012149</td>\n",
       "      <td>264223.153591</td>\n",
       "      <td>-6924.466446</td>\n",
       "      <td>-6924.466446</td>\n",
       "      <td>-6924.466446</td>\n",
       "      <td>-6924.466446</td>\n",
       "      <td>-6924.466446</td>\n",
       "      <td>-6924.466446</td>\n",
       "      <td>0.0</td>\n",
       "      <td>0.0</td>\n",
       "      <td>0.0</td>\n",
       "      <td>257069.050507</td>\n",
       "    </tr>\n",
       "  </tbody>\n",
       "</table>\n",
       "</div>"
      ],
      "text/plain": [
       "            ds          trend     yhat_lower     yhat_upper    trend_lower  \\\n",
       "576 2018-01-01  262461.081132  238161.423333  249322.445297  262461.081132   \n",
       "577 2018-02-01  262603.313199  229753.573549  241188.198815  262603.313199   \n",
       "578 2018-03-01  262731.780873  257336.549059  268845.171266  262731.780873   \n",
       "579 2018-04-01  262874.012940  257584.575112  268972.074898  262874.012940   \n",
       "580 2018-05-01  263011.656876  267098.155323  278455.464080  263011.643000   \n",
       "581 2018-06-01  263153.888943  267028.098861  278552.932706  263141.381961   \n",
       "582 2018-07-01  263291.532879  273848.693203  284912.055513  263255.164621   \n",
       "583 2018-08-01  263433.764946  274322.522893  285457.142019  263367.073657   \n",
       "584 2018-09-01  263575.997014  255914.406786  267920.197541  263485.620657   \n",
       "585 2018-10-01  263713.640950  263168.237345  274487.566297  263592.908120   \n",
       "586 2018-11-01  263855.873017  249993.998289  261340.836579  263699.994710   \n",
       "587 2018-12-01  263993.516953  251428.223974  263046.646153  263791.012149   \n",
       "\n",
       "       trend_upper  additive_terms  additive_terms_lower  \\\n",
       "576  262461.081132   -18592.009874         -18592.009874   \n",
       "577  262603.313199   -27104.937367         -27104.937367   \n",
       "578  262731.780873      -31.160435            -31.160435   \n",
       "579  262874.012940       30.939113             30.939113   \n",
       "580  263020.243995     9618.637856           9618.637856   \n",
       "581  263181.073172     9729.419656           9729.419656   \n",
       "582  263342.334537    16051.396481          16051.396481   \n",
       "583  263509.925821    16446.103774          16446.103774   \n",
       "584  263680.366694    -1672.204614          -1672.204614   \n",
       "585  263863.319101     5303.845016           5303.845016   \n",
       "586  264052.149381    -8211.000928          -8211.000928   \n",
       "587  264223.153591    -6924.466446          -6924.466446   \n",
       "\n",
       "     additive_terms_upper        yearly  yearly_lower  yearly_upper  \\\n",
       "576         -18592.009874 -18592.009874 -18592.009874 -18592.009874   \n",
       "577         -27104.937367 -27104.937367 -27104.937367 -27104.937367   \n",
       "578            -31.160435    -31.160435    -31.160435    -31.160435   \n",
       "579             30.939113     30.939113     30.939113     30.939113   \n",
       "580           9618.637856   9618.637856   9618.637856   9618.637856   \n",
       "581           9729.419656   9729.419656   9729.419656   9729.419656   \n",
       "582          16051.396481  16051.396481  16051.396481  16051.396481   \n",
       "583          16446.103774  16446.103774  16446.103774  16446.103774   \n",
       "584          -1672.204614  -1672.204614  -1672.204614  -1672.204614   \n",
       "585           5303.845016   5303.845016   5303.845016   5303.845016   \n",
       "586          -8211.000928  -8211.000928  -8211.000928  -8211.000928   \n",
       "587          -6924.466446  -6924.466446  -6924.466446  -6924.466446   \n",
       "\n",
       "     multiplicative_terms  multiplicative_terms_lower  \\\n",
       "576                   0.0                         0.0   \n",
       "577                   0.0                         0.0   \n",
       "578                   0.0                         0.0   \n",
       "579                   0.0                         0.0   \n",
       "580                   0.0                         0.0   \n",
       "581                   0.0                         0.0   \n",
       "582                   0.0                         0.0   \n",
       "583                   0.0                         0.0   \n",
       "584                   0.0                         0.0   \n",
       "585                   0.0                         0.0   \n",
       "586                   0.0                         0.0   \n",
       "587                   0.0                         0.0   \n",
       "\n",
       "     multiplicative_terms_upper           yhat  \n",
       "576                         0.0  243869.071258  \n",
       "577                         0.0  235498.375832  \n",
       "578                         0.0  262700.620438  \n",
       "579                         0.0  262904.952053  \n",
       "580                         0.0  272630.294732  \n",
       "581                         0.0  272883.308600  \n",
       "582                         0.0  279342.929360  \n",
       "583                         0.0  279879.868721  \n",
       "584                         0.0  261903.792400  \n",
       "585                         0.0  269017.485965  \n",
       "586                         0.0  255644.872089  \n",
       "587                         0.0  257069.050507  "
      ]
     },
     "execution_count": 49,
     "metadata": {},
     "output_type": "execute_result"
    }
   ],
   "source": [
    "forecast.tail(12)"
   ]
  },
  {
   "cell_type": "code",
   "execution_count": 47,
   "id": "28b079ce-4117-474c-ba45-88566070d496",
   "metadata": {},
   "outputs": [
    {
     "data": {
      "text/plain": [
       "<Axes: xlabel='ds'>"
      ]
     },
     "execution_count": 47,
     "metadata": {},
     "output_type": "execute_result"
    },
    {
     "data": {
      "image/png": "[encoded data removed]",
      "text/plain": [
       "<Figure size 1000x600 with 1 Axes>"
      ]
     },
     "metadata": {},
     "output_type": "display_data"
    }
   ],
   "source": [
    "ax = forecast.plot(x='ds',y='yhat',label='Predictions',legend=True, figsize=(10,6))\n",
    "test.plot(x='ds',y='y',label='True test data', legend=True, ax=ax)"
   ]
  },
  {
   "cell_type": "code",
   "execution_count": 53,
   "id": "4815591d-efd4-42d8-9892-f2242962e10d",
   "metadata": {},
   "outputs": [
    {
     "data": {
      "text/plain": [
       "(576.0, 588.0)"
      ]
     },
     "execution_count": 53,
     "metadata": {},
     "output_type": "execute_result"
    },
    {
     "data": {
      "image/png": "[encoded data removed]",
      "text/plain": [
       "<Figure size 1000x600 with 1 Axes>"
      ]
     },
     "metadata": {},
     "output_type": "display_data"
    }
   ],
   "source": [
    "ax = forecast.plot(x='ds',y='yhat',label='Predictions',legend=True, figsize=(10,6))\n",
    "test.plot(x='ds',y='y',label='True test data', legend=True, ax=ax)\n",
    "plt.xlim(pd.to_datetime('2018-01-01'),pd.to_datetime('2019-01-01'))"
   ]
  },
  {
   "cell_type": "code",
   "execution_count": 89,
   "id": "1648280f-b5d1-49cf-85cc-a28ac8d8615e",
   "metadata": {},
   "outputs": [
    {
     "data": {
      "text/plain": [
       "8604.302194732814"
      ]
     },
     "execution_count": 89,
     "metadata": {},
     "output_type": "execute_result"
    }
   ],
   "source": [
    "predictions = forecast['yhat'].iloc[-12:]\n",
    "\n",
    "rmse(predictions, test['y'])"
   ]
  },
  {
   "cell_type": "code",
   "execution_count": 91,
   "id": "e0dfb9f3-b978-4470-94c1-fbde10160706",
   "metadata": {},
   "outputs": [
    {
     "data": {
      "text/plain": [
       "268739.6666666667"
      ]
     },
     "execution_count": 91,
     "metadata": {},
     "output_type": "execute_result"
    }
   ],
   "source": [
    "test['y'].mean()"
   ]
  },
  {
   "cell_type": "code",
   "execution_count": 93,
   "id": "e6a095b0-dec6-4dc0-9423-633188bb8724",
   "metadata": {},
   "outputs": [
    {
     "data": {
      "text/plain": [
       "3.2017239216885787"
      ]
     },
     "execution_count": 93,
     "metadata": {},
     "output_type": "execute_result"
    }
   ],
   "source": [
    "rmse(test['y'], predictions) * 100 / test['y'].mean()"
   ]
  },
  {
   "cell_type": "markdown",
   "id": "c1beb677-334a-4e48-bed4-631a9ce98723",
   "metadata": {},
   "source": [
    "# Cross Validation"
   ]
  },
  {
   "cell_type": "markdown",
   "id": "58da296d-7197-485c-971b-999510e54cfc",
   "metadata": {},
   "source": [
    "## initial / cutoff / horizon"
   ]
  },
  {
   "cell_type": "code",
   "execution_count": 114,
   "id": "4244efc4-cbac-4558-8666-ebaeef52e6ce",
   "metadata": {},
   "outputs": [],
   "source": [
    "# Initial (periode 5 years)\n",
    "initial = 5 * 365\n",
    "initial = str(initial) + ' days'"
   ]
  },
  {
   "cell_type": "code",
   "execution_count": 116,
   "id": "4764fe50-80d8-4812-9a69-ca92193fe267",
   "metadata": {},
   "outputs": [],
   "source": [
    "# Period\n",
    "period = 5 * 365\n",
    "period = str(period) + ' days'"
   ]
  },
  {
   "cell_type": "code",
   "execution_count": 118,
   "id": "36e0cd77-fa45-466e-9282-b204bded601f",
   "metadata": {},
   "outputs": [],
   "source": [
    "# Horizon\n",
    "horizon = 365\n",
    "horizon = str(horizon) + ' days'"
   ]
  },
  {
   "cell_type": "code",
   "execution_count": 120,
   "id": "6d8ca5de-4d86-4ef3-b6f1-d8de4338c7d1",
   "metadata": {},
   "outputs": [
    {
     "data": {
      "application/vnd.jupyter.widget-view+json": {
       "model_id": "e791870885b04cb39693f3745aa79dde",
       "version_major": 2,
       "version_minor": 0
      },
      "text/plain": [
       "  0%|          | 0/9 [00:00<?, ?it/s]"
      ]
     },
     "metadata": {},
     "output_type": "display_data"
    },
    {
     "name": "stderr",
     "output_type": "stream",
     "text": [
      "18:45:26 - cmdstanpy - INFO - Chain [1] start processing\n",
      "18:45:27 - cmdstanpy - INFO - Chain [1] done processing\n",
      "18:45:27 - cmdstanpy - INFO - Chain [1] start processing\n",
      "18:45:27 - cmdstanpy - INFO - Chain [1] done processing\n",
      "18:45:27 - cmdstanpy - INFO - Chain [1] start processing\n",
      "18:45:27 - cmdstanpy - INFO - Chain [1] done processing\n",
      "18:45:28 - cmdstanpy - INFO - Chain [1] start processing\n",
      "18:45:28 - cmdstanpy - INFO - Chain [1] done processing\n",
      "18:45:28 - cmdstanpy - INFO - Chain [1] start processing\n",
      "18:45:28 - cmdstanpy - INFO - Chain [1] done processing\n",
      "18:45:28 - cmdstanpy - INFO - Chain [1] start processing\n",
      "18:45:28 - cmdstanpy - INFO - Chain [1] done processing\n",
      "18:45:28 - cmdstanpy - INFO - Chain [1] start processing\n",
      "18:45:29 - cmdstanpy - INFO - Chain [1] done processing\n",
      "18:45:29 - cmdstanpy - INFO - Chain [1] start processing\n",
      "18:45:29 - cmdstanpy - INFO - Chain [1] done processing\n",
      "18:45:29 - cmdstanpy - INFO - Chain [1] start processing\n",
      "18:45:29 - cmdstanpy - INFO - Chain [1] done processing\n"
     ]
    }
   ],
   "source": [
    "df_cv = cross_validation(m,initial=initial, period=period,horizon=horizon)"
   ]
  },
  {
   "cell_type": "code",
   "execution_count": 124,
   "id": "760b742c-4fbb-4405-81a9-39685c3879b1",
   "metadata": {},
   "outputs": [
    {
     "data": {
      "text/html": [
       "<div>\n",
       "<style scoped>\n",
       "    .dataframe tbody tr th:only-of-type {\n",
       "        vertical-align: middle;\n",
       "    }\n",
       "\n",
       "    .dataframe tbody tr th {\n",
       "        vertical-align: top;\n",
       "    }\n",
       "\n",
       "    .dataframe thead th {\n",
       "        text-align: right;\n",
       "    }\n",
       "</style>\n",
       "<table border=\"1\" class=\"dataframe\">\n",
       "  <thead>\n",
       "    <tr style=\"text-align: right;\">\n",
       "      <th></th>\n",
       "      <th>ds</th>\n",
       "      <th>yhat</th>\n",
       "      <th>yhat_lower</th>\n",
       "      <th>yhat_upper</th>\n",
       "      <th>y</th>\n",
       "      <th>cutoff</th>\n",
       "    </tr>\n",
       "  </thead>\n",
       "  <tbody>\n",
       "    <tr>\n",
       "      <th>0</th>\n",
       "      <td>1977-01-01</td>\n",
       "      <td>108479.045736</td>\n",
       "      <td>107013.386170</td>\n",
       "      <td>109792.826931</td>\n",
       "      <td>102445.0</td>\n",
       "      <td>1976-12-11</td>\n",
       "    </tr>\n",
       "    <tr>\n",
       "      <th>1</th>\n",
       "      <td>1977-02-01</td>\n",
       "      <td>102996.069494</td>\n",
       "      <td>101593.780936</td>\n",
       "      <td>104459.132126</td>\n",
       "      <td>102416.0</td>\n",
       "      <td>1976-12-11</td>\n",
       "    </tr>\n",
       "    <tr>\n",
       "      <th>2</th>\n",
       "      <td>1977-03-01</td>\n",
       "      <td>118973.276565</td>\n",
       "      <td>117432.416876</td>\n",
       "      <td>120364.304018</td>\n",
       "      <td>119960.0</td>\n",
       "      <td>1976-12-11</td>\n",
       "    </tr>\n",
       "    <tr>\n",
       "      <th>3</th>\n",
       "      <td>1977-04-01</td>\n",
       "      <td>120612.885433</td>\n",
       "      <td>119219.888525</td>\n",
       "      <td>122114.372961</td>\n",
       "      <td>121513.0</td>\n",
       "      <td>1976-12-11</td>\n",
       "    </tr>\n",
       "    <tr>\n",
       "      <th>4</th>\n",
       "      <td>1977-05-01</td>\n",
       "      <td>127882.985779</td>\n",
       "      <td>126243.411684</td>\n",
       "      <td>129369.076675</td>\n",
       "      <td>128884.0</td>\n",
       "      <td>1976-12-11</td>\n",
       "    </tr>\n",
       "  </tbody>\n",
       "</table>\n",
       "</div>"
      ],
      "text/plain": [
       "          ds           yhat     yhat_lower     yhat_upper         y     cutoff\n",
       "0 1977-01-01  108479.045736  107013.386170  109792.826931  102445.0 1976-12-11\n",
       "1 1977-02-01  102996.069494  101593.780936  104459.132126  102416.0 1976-12-11\n",
       "2 1977-03-01  118973.276565  117432.416876  120364.304018  119960.0 1976-12-11\n",
       "3 1977-04-01  120612.885433  119219.888525  122114.372961  121513.0 1976-12-11\n",
       "4 1977-05-01  127882.985779  126243.411684  129369.076675  128884.0 1976-12-11"
      ]
     },
     "execution_count": 124,
     "metadata": {},
     "output_type": "execute_result"
    }
   ],
   "source": [
    "df_cv.head()"
   ]
  },
  {
   "cell_type": "code",
   "execution_count": 126,
   "id": "95beea95-bb79-425a-a998-698d1622bf63",
   "metadata": {},
   "outputs": [
    {
     "data": {
      "text/plain": [
       "108"
      ]
     },
     "execution_count": 126,
     "metadata": {},
     "output_type": "execute_result"
    }
   ],
   "source": [
    "len(df_cv)"
   ]
  },
  {
   "cell_type": "code",
   "execution_count": 132,
   "id": "53900557-12aa-4552-a090-03a5c81abd29",
   "metadata": {},
   "outputs": [
    {
     "data": {
      "text/plain": [
       "5.444444444444445"
      ]
     },
     "execution_count": 132,
     "metadata": {},
     "output_type": "execute_result"
    }
   ],
   "source": [
    "# len(df) / 5 periodes (5*365)\n",
    "len(df)/len(df_cv)"
   ]
  },
  {
   "cell_type": "code",
   "execution_count": 134,
   "id": "e9646811-d485-4630-a757-0b74cacd80ac",
   "metadata": {},
   "outputs": [
    {
     "data": {
      "text/html": [
       "<div>\n",
       "<style scoped>\n",
       "    .dataframe tbody tr th:only-of-type {\n",
       "        vertical-align: middle;\n",
       "    }\n",
       "\n",
       "    .dataframe tbody tr th {\n",
       "        vertical-align: top;\n",
       "    }\n",
       "\n",
       "    .dataframe thead th {\n",
       "        text-align: right;\n",
       "    }\n",
       "</style>\n",
       "<table border=\"1\" class=\"dataframe\">\n",
       "  <thead>\n",
       "    <tr style=\"text-align: right;\">\n",
       "      <th></th>\n",
       "      <th>horizon</th>\n",
       "      <th>mse</th>\n",
       "      <th>rmse</th>\n",
       "      <th>mae</th>\n",
       "      <th>mape</th>\n",
       "      <th>mdape</th>\n",
       "      <th>smape</th>\n",
       "      <th>coverage</th>\n",
       "    </tr>\n",
       "  </thead>\n",
       "  <tbody>\n",
       "    <tr>\n",
       "      <th>0</th>\n",
       "      <td>52 days</td>\n",
       "      <td>2.444316e+07</td>\n",
       "      <td>4944.002132</td>\n",
       "      <td>4543.524001</td>\n",
       "      <td>0.027822</td>\n",
       "      <td>0.023395</td>\n",
       "      <td>0.027403</td>\n",
       "      <td>0.3</td>\n",
       "    </tr>\n",
       "    <tr>\n",
       "      <th>1</th>\n",
       "      <td>53 days</td>\n",
       "      <td>2.194478e+07</td>\n",
       "      <td>4684.526050</td>\n",
       "      <td>4278.142802</td>\n",
       "      <td>0.025076</td>\n",
       "      <td>0.023395</td>\n",
       "      <td>0.024777</td>\n",
       "      <td>0.3</td>\n",
       "    </tr>\n",
       "    <tr>\n",
       "      <th>2</th>\n",
       "      <td>54 days</td>\n",
       "      <td>1.850311e+07</td>\n",
       "      <td>4301.523929</td>\n",
       "      <td>3755.453769</td>\n",
       "      <td>0.020194</td>\n",
       "      <td>0.022195</td>\n",
       "      <td>0.020035</td>\n",
       "      <td>0.4</td>\n",
       "    </tr>\n",
       "    <tr>\n",
       "      <th>3</th>\n",
       "      <td>55 days</td>\n",
       "      <td>2.338050e+07</td>\n",
       "      <td>4835.338344</td>\n",
       "      <td>4274.607033</td>\n",
       "      <td>0.023245</td>\n",
       "      <td>0.023395</td>\n",
       "      <td>0.022996</td>\n",
       "      <td>0.3</td>\n",
       "    </tr>\n",
       "    <tr>\n",
       "      <th>4</th>\n",
       "      <td>57 days</td>\n",
       "      <td>2.120514e+07</td>\n",
       "      <td>4604.904249</td>\n",
       "      <td>4014.174881</td>\n",
       "      <td>0.021540</td>\n",
       "      <td>0.022195</td>\n",
       "      <td>0.021331</td>\n",
       "      <td>0.4</td>\n",
       "    </tr>\n",
       "    <tr>\n",
       "      <th>...</th>\n",
       "      <td>...</td>\n",
       "      <td>...</td>\n",
       "      <td>...</td>\n",
       "      <td>...</td>\n",
       "      <td>...</td>\n",
       "      <td>...</td>\n",
       "      <td>...</td>\n",
       "      <td>...</td>\n",
       "    </tr>\n",
       "    <tr>\n",
       "      <th>94</th>\n",
       "      <td>360 days</td>\n",
       "      <td>1.856034e+07</td>\n",
       "      <td>4308.171304</td>\n",
       "      <td>3760.668727</td>\n",
       "      <td>0.019600</td>\n",
       "      <td>0.019726</td>\n",
       "      <td>0.019607</td>\n",
       "      <td>0.5</td>\n",
       "    </tr>\n",
       "    <tr>\n",
       "      <th>95</th>\n",
       "      <td>361 days</td>\n",
       "      <td>1.763795e+07</td>\n",
       "      <td>4199.756090</td>\n",
       "      <td>3480.698150</td>\n",
       "      <td>0.018200</td>\n",
       "      <td>0.018869</td>\n",
       "      <td>0.018218</td>\n",
       "      <td>0.5</td>\n",
       "    </tr>\n",
       "    <tr>\n",
       "      <th>96</th>\n",
       "      <td>362 days</td>\n",
       "      <td>3.198060e+07</td>\n",
       "      <td>5655.139536</td>\n",
       "      <td>4409.507626</td>\n",
       "      <td>0.022012</td>\n",
       "      <td>0.024765</td>\n",
       "      <td>0.021910</td>\n",
       "      <td>0.4</td>\n",
       "    </tr>\n",
       "    <tr>\n",
       "      <th>97</th>\n",
       "      <td>364 days</td>\n",
       "      <td>3.018403e+07</td>\n",
       "      <td>5493.999829</td>\n",
       "      <td>4241.143037</td>\n",
       "      <td>0.021382</td>\n",
       "      <td>0.021611</td>\n",
       "      <td>0.021293</td>\n",
       "      <td>0.5</td>\n",
       "    </tr>\n",
       "    <tr>\n",
       "      <th>98</th>\n",
       "      <td>365 days</td>\n",
       "      <td>5.583979e+07</td>\n",
       "      <td>7472.602569</td>\n",
       "      <td>5667.738798</td>\n",
       "      <td>0.026658</td>\n",
       "      <td>0.024790</td>\n",
       "      <td>0.026761</td>\n",
       "      <td>0.4</td>\n",
       "    </tr>\n",
       "  </tbody>\n",
       "</table>\n",
       "<p>99 rows × 8 columns</p>\n",
       "</div>"
      ],
      "text/plain": [
       "    horizon           mse         rmse          mae      mape     mdape  \\\n",
       "0   52 days  2.444316e+07  4944.002132  4543.524001  0.027822  0.023395   \n",
       "1   53 days  2.194478e+07  4684.526050  4278.142802  0.025076  0.023395   \n",
       "2   54 days  1.850311e+07  4301.523929  3755.453769  0.020194  0.022195   \n",
       "3   55 days  2.338050e+07  4835.338344  4274.607033  0.023245  0.023395   \n",
       "4   57 days  2.120514e+07  4604.904249  4014.174881  0.021540  0.022195   \n",
       "..      ...           ...          ...          ...       ...       ...   \n",
       "94 360 days  1.856034e+07  4308.171304  3760.668727  0.019600  0.019726   \n",
       "95 361 days  1.763795e+07  4199.756090  3480.698150  0.018200  0.018869   \n",
       "96 362 days  3.198060e+07  5655.139536  4409.507626  0.022012  0.024765   \n",
       "97 364 days  3.018403e+07  5493.999829  4241.143037  0.021382  0.021611   \n",
       "98 365 days  5.583979e+07  7472.602569  5667.738798  0.026658  0.024790   \n",
       "\n",
       "       smape  coverage  \n",
       "0   0.027403       0.3  \n",
       "1   0.024777       0.3  \n",
       "2   0.020035       0.4  \n",
       "3   0.022996       0.3  \n",
       "4   0.021331       0.4  \n",
       "..       ...       ...  \n",
       "94  0.019607       0.5  \n",
       "95  0.018218       0.5  \n",
       "96  0.021910       0.4  \n",
       "97  0.021293       0.5  \n",
       "98  0.026761       0.4  \n",
       "\n",
       "[99 rows x 8 columns]"
      ]
     },
     "execution_count": 134,
     "metadata": {},
     "output_type": "execute_result"
    }
   ],
   "source": [
    "performance_metrics(df_cv)"
   ]
  },
  {
   "cell_type": "markdown",
   "id": "6a78fb60-653d-4cf4-83b1-44f5d4da2809",
   "metadata": {},
   "source": [
    "### mape : pourcentage rapport entre mae et moyenne de test"
   ]
  },
  {
   "cell_type": "code",
   "execution_count": 140,
   "id": "2a3958d3-0582-49be-aaa2-3eb73c7b0f7b",
   "metadata": {},
   "outputs": [
    {
     "name": "stderr",
     "output_type": "stream",
     "text": [
      "C:\\Users\\nico_\\anaconda3\\Lib\\site-packages\\prophet\\plot.py:546: FutureWarning: Series.view is deprecated and will be removed in a future version. Use ``astype`` as an alternative to change the dtype.\n",
      "  x_plt = df_none['horizon'].astype('timedelta64[ns]').view(np.int64) / float(dt_conversions[i])\n",
      "C:\\Users\\nico_\\anaconda3\\Lib\\site-packages\\prophet\\plot.py:547: FutureWarning: Series.view is deprecated and will be removed in a future version. Use ``astype`` as an alternative to change the dtype.\n",
      "  x_plt_h = df_h['horizon'].astype('timedelta64[ns]').view(np.int64) / float(dt_conversions[i])\n"
     ]
    },
    {
     "data": {
      "image/png": "[encoded data removed]",
      "text/plain": [
       "<Figure size 1000x600 with 1 Axes>"
      ]
     },
     "metadata": {},
     "output_type": "display_data"
    }
   ],
   "source": [
    "plot_cross_validation_metric(df_cv,metric='rmse');"
   ]
  },
  {
   "cell_type": "code",
   "execution_count": 142,
   "id": "da28981d-a3c6-4635-9476-e0ef5e64682d",
   "metadata": {},
   "outputs": [
    {
     "name": "stderr",
     "output_type": "stream",
     "text": [
      "C:\\Users\\nico_\\anaconda3\\Lib\\site-packages\\prophet\\plot.py:546: FutureWarning: Series.view is deprecated and will be removed in a future version. Use ``astype`` as an alternative to change the dtype.\n",
      "  x_plt = df_none['horizon'].astype('timedelta64[ns]').view(np.int64) / float(dt_conversions[i])\n",
      "C:\\Users\\nico_\\anaconda3\\Lib\\site-packages\\prophet\\plot.py:547: FutureWarning: Series.view is deprecated and will be removed in a future version. Use ``astype`` as an alternative to change the dtype.\n",
      "  x_plt_h = df_h['horizon'].astype('timedelta64[ns]').view(np.int64) / float(dt_conversions[i])\n"
     ]
    },
    {
     "data": {
      "image/png": "[encoded data removed]",
      "text/plain": [
       "<Figure size 1000x600 with 1 Axes>"
      ]
     },
     "metadata": {},
     "output_type": "display_data"
    }
   ],
   "source": [
    "plot_cross_validation_metric(df_cv,metric='mape');"
   ]
  },
  {
   "cell_type": "code",
   "execution_count": null,
   "id": "5643735b-00d7-455b-a4d9-b148e7a19c97",
   "metadata": {},
   "outputs": [],
   "source": []
  }
 ],
 "metadata": {
  "kernelspec": {
   "display_name": "Python [conda env:base] *",
   "language": "python",
   "name": "conda-base-py"
  },
  "language_info": {
   "codemirror_mode": {
    "name": "ipython",
    "version": 3
   },
   "file_extension": ".py",
   "mimetype": "text/x-python",
   "name": "python",
   "nbconvert_exporter": "python",
   "pygments_lexer": "ipython3",
   "version": "3.12.7"
  }
 },
 "nbformat": 4,
 "nbformat_minor": 5
}
